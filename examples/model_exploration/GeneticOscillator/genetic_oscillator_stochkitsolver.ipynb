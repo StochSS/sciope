{
 "cells": [
  {
   "cell_type": "markdown",
   "metadata": {},
   "source": [
    "## Model exploration of a genetic oscillator\n",
    "Obs. You need to have the StochKit solver installed for this example"
   ]
  },
  {
   "cell_type": "code",
   "execution_count": null,
   "metadata": {},
   "outputs": [],
   "source": [
    "%matplotlib notebook\n",
    "\n",
    "import gillespy2\n",
    "from gillespy2.solvers.stochkit import StochKitSolver\n",
    "from tsfresh.feature_extraction.settings import MinimalFCParameters\n",
    "import numpy as np\n",
    "import os\n",
    "\n",
    "from dask.distributed import Client\n",
    "#os.environ[\"STOCHKIT_HOME\"] = '/path/to/StochKit'"
   ]
  },
  {
   "cell_type": "code",
   "execution_count": null,
   "metadata": {},
   "outputs": [],
   "source": [
    "model_doc = gillespy2.StochMLDocument.from_file(\"vilar_oscillator.xml\")\n",
    "vilar_model = model_doc.to_model(\"Vilar\")\n",
    "vilar_model.tspan = np.linspace(0, 100, 100)"
   ]
  },
  {
   "cell_type": "markdown",
   "metadata": {},
   "source": [
    "## Define simulator function"
   ]
  },
  {
   "cell_type": "code",
   "execution_count": null,
   "metadata": {},
   "outputs": [],
   "source": [
    "from sciope.utilities.gillespy2 import wrapper\n",
    "\n",
    "settings = {\"solver\": StochKitSolver, \"number_of_trajectories\":1, \"show_labels\":True}\n",
    "simulator = wrapper.get_simulator(gillespy_model=vilar_model, run_settings=settings, species_of_interest=[\"C\", \"R\"])\n",
    "\n",
    "#get the expression values of parameter as array (used for sampler)\n",
    "expression_array = wrapper.get_parameter_expression_array(vilar_model)"
   ]
  },
  {
   "cell_type": "markdown",
   "metadata": {},
   "source": [
    "## Define parameter sampler"
   ]
  },
  {
   "cell_type": "code",
   "execution_count": null,
   "metadata": {},
   "outputs": [],
   "source": [
    "from sciope.utilities.priors.uniform_prior import UniformPrior\n",
    "\n",
    "sampler = UniformPrior(expression_array*0.8, expression_array*1.5)"
   ]
  },
  {
   "cell_type": "markdown",
   "metadata": {},
   "source": [
    "## Start local cluster using dask client"
   ]
  },
  {
   "cell_type": "code",
   "execution_count": null,
   "metadata": {},
   "outputs": [],
   "source": [
    "c = Client()\n",
    "c"
   ]
  },
  {
   "cell_type": "markdown",
   "metadata": {},
   "source": [
    "## Initiate StochMET"
   ]
  },
  {
   "cell_type": "code",
   "execution_count": null,
   "metadata": {},
   "outputs": [],
   "source": [
    "from sciope.utilities.summarystats.auto_tsfresh import SummariesTSFRESH\n",
    "from sciope.stochmet.stochmet import StochMET\n",
    "\n",
    "\n",
    "#lets use this set of features:\n",
    "default_fc_params = {'mean': None,\n",
    "                     'variance': None,\n",
    "                     'skewness': None,\n",
    "     'agg_autocorrelation': [{'f_agg': 'mean', 'maxlag': 5},\n",
    " {'f_agg': 'median', 'maxlag': 5},\n",
    " {'f_agg': 'var', 'maxlag': 5}]}\n",
    "\n",
    "summaries = SummariesTSFRESH(features=default_fc_params)\n",
    "met = StochMET(simulator, sampler, summarystats=summaries)"
   ]
  },
  {
   "cell_type": "markdown",
   "metadata": {},
   "source": [
    "## Run parameter sweep"
   ]
  },
  {
   "cell_type": "code",
   "execution_count": null,
   "metadata": {},
   "outputs": [],
   "source": [
    "met.compute(n_points=100, chunk_size=10)"
   ]
  },
  {
   "cell_type": "markdown",
   "metadata": {},
   "source": [
    "## Explore the result\n",
    "Here we will explore parameter points expressed in feature space using a dimension reduction method. User can interact with points and label points according to different model behavior"
   ]
  },
  {
   "cell_type": "code",
   "execution_count": null,
   "metadata": {},
   "outputs": [],
   "source": [
    "#First lets add some appropiate information about the model and features for interative purposes\n",
    "met.data.configurations['listOfParameters'] = list(vilar_model.listOfParameters.keys())\n",
    "met.data.configurations['listOfSpecies'] = list(vilar_model.listOfSpecies.keys())\n",
    "met.data.configurations['listOfSummaries'] = met.summaries.features\n",
    "met.data.configurations['timepoints'] = vilar_model.tspan"
   ]
  },
  {
   "cell_type": "code",
   "execution_count": null,
   "metadata": {
    "scrolled": false
   },
   "outputs": [],
   "source": [
    "# Here we use UMAP for dimension reduction and collect the data from persited storage\n",
    "met.explore(dr_method='umap', from_distributed=True)"
   ]
  },
  {
   "cell_type": "markdown",
   "metadata": {},
   "source": [
    "## Once a few points has been added we can use Semi-supervised learning"
   ]
  },
  {
   "cell_type": "code",
   "execution_count": null,
   "metadata": {
    "scrolled": true
   },
   "outputs": [],
   "source": [
    "from sciope.models.label_propagation import LPModel\n",
    "#here lets use the dimension reduction embedding as input data\n",
    "data = met.dr_model.embedding_\n",
    "\n",
    "model_lp = LPModel()\n",
    "#train using basinhopping\n",
    "model_lp.train(data, met.data.user_labels, min_=0.01, max_=10, niter=50)"
   ]
  },
  {
   "cell_type": "code",
   "execution_count": null,
   "metadata": {},
   "outputs": [],
   "source": [
    "# just to vislualize the result we will map the label distribution to the user_labels (will enable us to see the LP model \n",
    "# output when using \"explore\")\n",
    "\n",
    "user_labels = np.copy(met.data.user_labels)\n",
    "met.data.user_labels = model_lp.model.label_distributions_[:,0]"
   ]
  },
  {
   "cell_type": "code",
   "execution_count": null,
   "metadata": {
    "scrolled": true
   },
   "outputs": [],
   "source": [
    "met.explore(dr_method='umap', from_distributed=False)"
   ]
  },
  {
   "cell_type": "code",
   "execution_count": null,
   "metadata": {},
   "outputs": [],
   "source": [
    "met.data.user_labels = user_labels"
   ]
  }
 ],
 "metadata": {
  "kernelspec": {
   "display_name": "Python 3",
   "language": "python",
   "name": "python3"
  },
  "language_info": {
   "codemirror_mode": {
    "name": "ipython",
    "version": 3
   },
   "file_extension": ".py",
   "mimetype": "text/x-python",
   "name": "python",
   "nbconvert_exporter": "python",
   "pygments_lexer": "ipython3",
   "version": "3.6.8"
  }
 },
 "nbformat": 4,
 "nbformat_minor": 2
}
